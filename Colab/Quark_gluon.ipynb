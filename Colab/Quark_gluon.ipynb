{
  "nbformat": 4,
  "nbformat_minor": 0,
  "metadata": {
    "colab": {
      "name": "Quark_gluon.ipynb",
      "provenance": [],
      "collapsed_sections": [],
      "authorship_tag": "ABX9TyNM6cWYrb6/z35/pIign/8s",
      "include_colab_link": true
    },
    "kernelspec": {
      "name": "python3",
      "display_name": "Python 3"
    },
    "language_info": {
      "name": "python"
    },
    "accelerator": "TPU",
    "gpuClass": "standard"
  },
  "cells": [
    {
      "cell_type": "markdown",
      "metadata": {
        "id": "view-in-github",
        "colab_type": "text"
      },
      "source": [
        "<a href=\"https://colab.research.google.com/github/dc250601/CMS-GSoC-2022/blob/main/Colab/Quark_gluon.ipynb\" target=\"_parent\"><img src=\"https://colab.research.google.com/assets/colab-badge.svg\" alt=\"Open In Colab\"/></a>"
      ]
    },
    {
      "cell_type": "code",
      "execution_count": 1,
      "metadata": {
        "colab": {
          "base_uri": "https://localhost:8080/"
        },
        "id": "5twxXrnD06Zg",
        "outputId": "d10539f9-2f76-4c90-b67f-874ccb3c1236"
      },
      "outputs": [
        {
          "output_type": "stream",
          "name": "stdout",
          "text": [
            "Tensorflow version 2.8.2\n",
            "Running on TPU  ['10.15.92.234:8470']\n",
            "INFO:tensorflow:Deallocate tpu buffers before initializing tpu system.\n"
          ]
        },
        {
          "output_type": "stream",
          "name": "stderr",
          "text": [
            "INFO:tensorflow:Deallocate tpu buffers before initializing tpu system.\n"
          ]
        },
        {
          "output_type": "stream",
          "name": "stdout",
          "text": [
            "INFO:tensorflow:Initializing the TPU system: grpc://10.15.92.234:8470\n"
          ]
        },
        {
          "output_type": "stream",
          "name": "stderr",
          "text": [
            "INFO:tensorflow:Initializing the TPU system: grpc://10.15.92.234:8470\n"
          ]
        },
        {
          "output_type": "stream",
          "name": "stdout",
          "text": [
            "INFO:tensorflow:Finished initializing TPU system.\n"
          ]
        },
        {
          "output_type": "stream",
          "name": "stderr",
          "text": [
            "INFO:tensorflow:Finished initializing TPU system.\n",
            "WARNING:absl:`tf.distribute.experimental.TPUStrategy` is deprecated, please use  the non experimental symbol `tf.distribute.TPUStrategy` instead.\n"
          ]
        },
        {
          "output_type": "stream",
          "name": "stdout",
          "text": [
            "INFO:tensorflow:Found TPU system:\n"
          ]
        },
        {
          "output_type": "stream",
          "name": "stderr",
          "text": [
            "INFO:tensorflow:Found TPU system:\n"
          ]
        },
        {
          "output_type": "stream",
          "name": "stdout",
          "text": [
            "INFO:tensorflow:*** Num TPU Cores: 8\n"
          ]
        },
        {
          "output_type": "stream",
          "name": "stderr",
          "text": [
            "INFO:tensorflow:*** Num TPU Cores: 8\n"
          ]
        },
        {
          "output_type": "stream",
          "name": "stdout",
          "text": [
            "INFO:tensorflow:*** Num TPU Workers: 1\n"
          ]
        },
        {
          "output_type": "stream",
          "name": "stderr",
          "text": [
            "INFO:tensorflow:*** Num TPU Workers: 1\n"
          ]
        },
        {
          "output_type": "stream",
          "name": "stdout",
          "text": [
            "INFO:tensorflow:*** Num TPU Cores Per Worker: 8\n"
          ]
        },
        {
          "output_type": "stream",
          "name": "stderr",
          "text": [
            "INFO:tensorflow:*** Num TPU Cores Per Worker: 8\n"
          ]
        },
        {
          "output_type": "stream",
          "name": "stdout",
          "text": [
            "INFO:tensorflow:*** Available Device: _DeviceAttributes(/job:localhost/replica:0/task:0/device:CPU:0, CPU, 0, 0)\n"
          ]
        },
        {
          "output_type": "stream",
          "name": "stderr",
          "text": [
            "INFO:tensorflow:*** Available Device: _DeviceAttributes(/job:localhost/replica:0/task:0/device:CPU:0, CPU, 0, 0)\n"
          ]
        },
        {
          "output_type": "stream",
          "name": "stdout",
          "text": [
            "INFO:tensorflow:*** Available Device: _DeviceAttributes(/job:worker/replica:0/task:0/device:CPU:0, CPU, 0, 0)\n"
          ]
        },
        {
          "output_type": "stream",
          "name": "stderr",
          "text": [
            "INFO:tensorflow:*** Available Device: _DeviceAttributes(/job:worker/replica:0/task:0/device:CPU:0, CPU, 0, 0)\n"
          ]
        },
        {
          "output_type": "stream",
          "name": "stdout",
          "text": [
            "INFO:tensorflow:*** Available Device: _DeviceAttributes(/job:worker/replica:0/task:0/device:TPU:0, TPU, 0, 0)\n"
          ]
        },
        {
          "output_type": "stream",
          "name": "stderr",
          "text": [
            "INFO:tensorflow:*** Available Device: _DeviceAttributes(/job:worker/replica:0/task:0/device:TPU:0, TPU, 0, 0)\n"
          ]
        },
        {
          "output_type": "stream",
          "name": "stdout",
          "text": [
            "INFO:tensorflow:*** Available Device: _DeviceAttributes(/job:worker/replica:0/task:0/device:TPU:1, TPU, 0, 0)\n"
          ]
        },
        {
          "output_type": "stream",
          "name": "stderr",
          "text": [
            "INFO:tensorflow:*** Available Device: _DeviceAttributes(/job:worker/replica:0/task:0/device:TPU:1, TPU, 0, 0)\n"
          ]
        },
        {
          "output_type": "stream",
          "name": "stdout",
          "text": [
            "INFO:tensorflow:*** Available Device: _DeviceAttributes(/job:worker/replica:0/task:0/device:TPU:2, TPU, 0, 0)\n"
          ]
        },
        {
          "output_type": "stream",
          "name": "stderr",
          "text": [
            "INFO:tensorflow:*** Available Device: _DeviceAttributes(/job:worker/replica:0/task:0/device:TPU:2, TPU, 0, 0)\n"
          ]
        },
        {
          "output_type": "stream",
          "name": "stdout",
          "text": [
            "INFO:tensorflow:*** Available Device: _DeviceAttributes(/job:worker/replica:0/task:0/device:TPU:3, TPU, 0, 0)\n"
          ]
        },
        {
          "output_type": "stream",
          "name": "stderr",
          "text": [
            "INFO:tensorflow:*** Available Device: _DeviceAttributes(/job:worker/replica:0/task:0/device:TPU:3, TPU, 0, 0)\n"
          ]
        },
        {
          "output_type": "stream",
          "name": "stdout",
          "text": [
            "INFO:tensorflow:*** Available Device: _DeviceAttributes(/job:worker/replica:0/task:0/device:TPU:4, TPU, 0, 0)\n"
          ]
        },
        {
          "output_type": "stream",
          "name": "stderr",
          "text": [
            "INFO:tensorflow:*** Available Device: _DeviceAttributes(/job:worker/replica:0/task:0/device:TPU:4, TPU, 0, 0)\n"
          ]
        },
        {
          "output_type": "stream",
          "name": "stdout",
          "text": [
            "INFO:tensorflow:*** Available Device: _DeviceAttributes(/job:worker/replica:0/task:0/device:TPU:5, TPU, 0, 0)\n"
          ]
        },
        {
          "output_type": "stream",
          "name": "stderr",
          "text": [
            "INFO:tensorflow:*** Available Device: _DeviceAttributes(/job:worker/replica:0/task:0/device:TPU:5, TPU, 0, 0)\n"
          ]
        },
        {
          "output_type": "stream",
          "name": "stdout",
          "text": [
            "INFO:tensorflow:*** Available Device: _DeviceAttributes(/job:worker/replica:0/task:0/device:TPU:6, TPU, 0, 0)\n"
          ]
        },
        {
          "output_type": "stream",
          "name": "stderr",
          "text": [
            "INFO:tensorflow:*** Available Device: _DeviceAttributes(/job:worker/replica:0/task:0/device:TPU:6, TPU, 0, 0)\n"
          ]
        },
        {
          "output_type": "stream",
          "name": "stdout",
          "text": [
            "INFO:tensorflow:*** Available Device: _DeviceAttributes(/job:worker/replica:0/task:0/device:TPU:7, TPU, 0, 0)\n"
          ]
        },
        {
          "output_type": "stream",
          "name": "stderr",
          "text": [
            "INFO:tensorflow:*** Available Device: _DeviceAttributes(/job:worker/replica:0/task:0/device:TPU:7, TPU, 0, 0)\n"
          ]
        },
        {
          "output_type": "stream",
          "name": "stdout",
          "text": [
            "INFO:tensorflow:*** Available Device: _DeviceAttributes(/job:worker/replica:0/task:0/device:TPU_SYSTEM:0, TPU_SYSTEM, 0, 0)\n"
          ]
        },
        {
          "output_type": "stream",
          "name": "stderr",
          "text": [
            "INFO:tensorflow:*** Available Device: _DeviceAttributes(/job:worker/replica:0/task:0/device:TPU_SYSTEM:0, TPU_SYSTEM, 0, 0)\n"
          ]
        },
        {
          "output_type": "stream",
          "name": "stdout",
          "text": [
            "INFO:tensorflow:*** Available Device: _DeviceAttributes(/job:worker/replica:0/task:0/device:XLA_CPU:0, XLA_CPU, 0, 0)\n"
          ]
        },
        {
          "output_type": "stream",
          "name": "stderr",
          "text": [
            "INFO:tensorflow:*** Available Device: _DeviceAttributes(/job:worker/replica:0/task:0/device:XLA_CPU:0, XLA_CPU, 0, 0)\n"
          ]
        }
      ],
      "source": [
        "%tensorflow_version 2.x\n",
        "import tensorflow as tf\n",
        "print(\"Tensorflow version \" + tf.__version__)\n",
        "\n",
        "try:\n",
        "  tpu = tf.distribute.cluster_resolver.TPUClusterResolver()  # TPU detection\n",
        "  print('Running on TPU ', tpu.cluster_spec().as_dict()['worker'])\n",
        "except ValueError:\n",
        "  raise BaseException('ERROR: Not connected to a TPU runtime; please see the previous cell in this notebook for instructions!')\n",
        "\n",
        "tf.config.experimental_connect_to_cluster(tpu)\n",
        "tf.tpu.experimental.initialize_tpu_system(tpu)\n",
        "tpu_strategy = tf.distribute.experimental.TPUStrategy(tpu)"
      ]
    },
    {
      "cell_type": "code",
      "source": [
        "import re\n",
        "import numpy as np\n",
        "from matplotlib import pyplot as plt\n",
        "import os\n",
        "import numpy as np\n",
        "import sys\n",
        "sys.path.append('./eff_feature.py')\n",
        "sys.path.append('./swin_sp.py')\n",
        "#Modified efficient net to match the config of the timm \n",
        "import eff_feature as efm\n",
        "#import swin_r as swin\n",
        "import swin_sp as swin\n",
        "AUTO = tf.data.experimental.AUTOTUNE"
      ],
      "metadata": {
        "id": "2W54XupW102D"
      },
      "execution_count": 2,
      "outputs": []
    },
    {
      "cell_type": "code",
      "source": [
        "BATCH_SIZE = 128 * tpu_strategy.num_replicas_in_sync"
      ],
      "metadata": {
        "id": "MI8BOxRm2lmO"
      },
      "execution_count": 3,
      "outputs": []
    },
    {
      "cell_type": "code",
      "source": [
        "GCS_DS_PATH = \"gs://quark_gluon/Qg\"\n",
        "TRAIN = tf.io.gfile.glob(GCS_DS_PATH + '/Train/*.tfrecords')\n",
        "TEST =  tf.io.gfile.glob(GCS_DS_PATH + '/Test/*.tfrecords')"
      ],
      "metadata": {
        "id": "JCiFQYfB3LJ3"
      },
      "execution_count": 4,
      "outputs": []
    },
    {
      "cell_type": "code",
      "source": [
        "def _parse_image_label_function(example_proto):\n",
        "    # Create a dictionary describing the features.\n",
        "    image_feature_description = {\n",
        "        'raw_image': tf.io.FixedLenFeature([], tf.string),\n",
        "        'label': tf.io.FixedLenFeature([], tf.int64),\n",
        "        'name': tf.io.FixedLenFeature([], tf.string)\n",
        "        \n",
        "    }\n",
        "    # Parse the input tf.train.Example proto using the dictionary above.\n",
        "    content = tf.io.parse_single_example(example_proto, image_feature_description)\n",
        "    content[\"raw_image\"] = tf.io.decode_png(content[\"raw_image\"], channels = 3)\n",
        "    content[\"raw_image\"] = tf.cast(content[\"raw_image\"], tf.float32) / 255.0\n",
        "#    content[\"raw_image\"] = tf.reshape([\"raw_image\"], [224,224, 3])\n",
        "#     image = content[\"raw_image\"]\n",
        "#     label = content[\"label\"]\n",
        "    return content[\"raw_image\"],content[\"label\"]\n",
        "\n",
        "\n",
        "def data_augment(image, label):\n",
        "    # data augmentation. Thanks to the dataset.prefetch(AUTO) statement in the next function (below),\n",
        "    # this happens essentially for free on TPU. Data pipeline code is executed on the \"CPU\" part\n",
        "    # of the TPU while the TPU itself is computing gradients.\n",
        "    image = tf.image.resize(image, (224,224))\n",
        "    #image = tf.image.random_saturation(image, 0, 2)\n",
        "    return image, label  \n",
        "\n",
        "\n",
        "\n",
        "def load_dataset(filenames):\n",
        "    ignore_order = tf.data.Options()\n",
        "    ignore_order.experimental_deterministic = False\n",
        "    dataset = tf.data.TFRecordDataset(filenames, num_parallel_reads=AUTO)\n",
        "    dataset = dataset.with_options(ignore_order)\n",
        "    dataset = dataset.map(_parse_image_label_function, num_parallel_calls=AUTO)\n",
        "    dataset = dataset.map(data_augment,num_parallel_calls=AUTO)\n",
        "    dataset = dataset.repeat()\n",
        "    dataset = dataset.shuffle(2048)\n",
        "    dataset = dataset.batch(BATCH_SIZE, drop_remainder=True)\n",
        "    dataset = dataset.prefetch(AUTO)\n",
        "    \n",
        "    return dataset"
      ],
      "metadata": {
        "id": "bfF1GnTW2nUD"
      },
      "execution_count": 5,
      "outputs": []
    },
    {
      "cell_type": "code",
      "source": [
        "train_ds = load_dataset(TRAIN)\n",
        "val_ds = load_dataset(TEST)"
      ],
      "metadata": {
        "id": "t4OCputF6RWl"
      },
      "execution_count": 6,
      "outputs": []
    },
    {
      "cell_type": "code",
      "source": [
        "with tpu_strategy.scope():\n",
        "\n",
        "    eff_blocks = 2\n",
        "    \n",
        "    model_a = swin.SwinTransformer(part_model  =True, eff_blocks = eff_blocks, partition_ = 1)\n",
        "\n",
        "    model_b = swin.SwinTransformer(part_model  =True, eff_blocks = eff_blocks, partition_ = 2)\n",
        "\n",
        "    model_ef = efm.EfficientNetB3(input_shape=(224,224,3),feature_extractor_blocks=eff_blocks)\n",
        "    \n",
        "    model_top = tf.keras.layers.Dense(1, activation = \"sigmoid\")\n",
        "\n",
        "    feature_extractor_blocks=eff_blocks\n",
        "    swin_blocks = model_b.num_layers - feature_extractor_blocks\n",
        "    embeded_dim = model_a.embed_dim[0] * (2**(4 - swin_blocks))\n",
        "    connector = tf.keras.Sequential([tf.keras.layers.Conv2D(filters=embeded_dim,use_bias=False, kernel_size = 1),\n",
        "                                     tf.keras.layers.BatchNormalization(momentum = 0.1, epsilon = 1e-05),\n",
        "                                     tf.keras.layers.Activation(\"swish\"),\n",
        "                                     tf.keras.layers.Reshape((-1,embeded_dim))\n",
        "    ])\n",
        "\n",
        "    class Stage1(tf.keras.Model):\n",
        "\n",
        "        def __init__(self, model_a, model_b, top):\n",
        "            super(Stage1,self).__init__()\n",
        "            self.model_a = model_a\n",
        "            self.model_b = model_b\n",
        "            self.top = top\n",
        "            \n",
        "\n",
        "        def call(self, x):\n",
        "            x = self.model_a(x)\n",
        "            x = self.model_b(x)\n",
        "            x = self.top(x)\n",
        "            return x\n",
        "\n",
        "\n",
        "    class Stage2(tf.keras.Model):\n",
        "\n",
        "        def __init__(self, eff, connector, model_b, top):\n",
        "            super().__init__()\n",
        "            self.eff = eff\n",
        "            self.connector = connector\n",
        "            self.model_b = model_b\n",
        "            self.model_b.trainable = False\n",
        "            self.top = top\n",
        "        def call(self, x):\n",
        "            x = self.eff(x)\n",
        "            x = self.connector(x)\n",
        "            x = self.model_b(x)\n",
        "            x = self.top(x)\n",
        "            return x\n",
        "\n",
        "\n",
        "    class Stage3(tf.keras.Model):\n",
        "\n",
        "        def __init__(self, eff, connector, model_b, top):\n",
        "            super().__init__()\n",
        "            self.eff = eff\n",
        "            self.connector = connector\n",
        "            self.model_b = model_b\n",
        "            self.model_b.trainable = True\n",
        "            self.top = top\n",
        "        def call(self, x):\n",
        "            x = self.eff(x)\n",
        "            x = self.connector(x)\n",
        "            x = self.model_b(x)\n",
        "            x = self.top(x)\n",
        "            return x"
      ],
      "metadata": {
        "id": "eAAh3fi-6Ttk"
      },
      "execution_count": 7,
      "outputs": []
    },
    {
      "cell_type": "code",
      "source": [
        "with tpu_strategy.scope():\n",
        "    model = swin.SwinTransformer(num_classes=1, pre_logits = True, drop_path_rate=0.1)\n",
        "    ld = model(tf.random.uniform((1,224,224,3)), training = False)\n",
        "    \n",
        "    model = tf.keras.Sequential([\n",
        "        tf.keras.layers.Input(shape = (224,224,3)),\n",
        "        model,\n",
        "        tf.keras.layers.Dense(1, activation = \"sigmoid\")\n",
        "        \n",
        "    ])\n",
        "\n",
        "    model.compile(\n",
        "        optimizer=tf.keras.optimizers.Adam(lr = 0.0001),\n",
        "        # steps_per_execution = 4,\n",
        "        loss = tf.keras.losses.BinaryCrossentropy(),\n",
        "        \n",
        "        metrics=[\"accuracy\", \"AUC\"]\n",
        "    )"
      ],
      "metadata": {
        "colab": {
          "base_uri": "https://localhost:8080/"
        },
        "id": "MVVPrXld6r94",
        "outputId": "bbe029cd-f3d0-43b0-8f53-e242a9112a89"
      },
      "execution_count": 8,
      "outputs": [
        {
          "output_type": "stream",
          "name": "stderr",
          "text": [
            "/usr/local/lib/python3.7/dist-packages/keras/optimizer_v2/adam.py:105: UserWarning: The `lr` argument is deprecated, use `learning_rate` instead.\n",
            "  super(Adam, self).__init__(name, **kwargs)\n"
          ]
        }
      ]
    },
    {
      "cell_type": "code",
      "source": [
        "history = model.fit(train_ds,\n",
        "#                     steps_per_epoch= 1,\n",
        "                    steps_per_epoch=194*2,\n",
        "                    validation_data=val_ds,\n",
        "                    validation_steps=34*2,\n",
        "                    epochs=10\n",
        "                    )"
      ],
      "metadata": {
        "colab": {
          "base_uri": "https://localhost:8080/"
        },
        "id": "Ebmk0hZx61NY",
        "outputId": "da07baab-7b6f-4aff-f313-6ab4e65bd3b1"
      },
      "execution_count": null,
      "outputs": [
        {
          "output_type": "stream",
          "name": "stdout",
          "text": [
            "Epoch 1/10\n",
            "388/388 [==============================] - 543s 1s/step - loss: 0.7028 - accuracy: 0.6040 - auc: 0.6510 - val_loss: 0.5980 - val_accuracy: 0.6835 - val_auc: 0.7635\n",
            "Epoch 2/10\n",
            "388/388 [==============================] - 448s 1s/step - loss: 0.5714 - accuracy: 0.7095 - auc: 0.7740 - val_loss: 0.5674 - val_accuracy: 0.7113 - val_auc: 0.7779\n",
            "Epoch 3/10\n",
            " 14/388 [>.............................] - ETA: 6:49 - loss: 0.5685 - accuracy: 0.7137 - auc: 0.7774"
          ]
        }
      ]
    }
  ]
}