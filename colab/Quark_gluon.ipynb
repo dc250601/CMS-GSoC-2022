{
  "nbformat": 4,
  "nbformat_minor": 0,
  "metadata": {
    "colab": {
      "name": "Quark_gluon.ipynb",
      "provenance": [],
      "collapsed_sections": [],
      "authorship_tag": "ABX9TyMjnVb3RfWl5qM/TAzX5Ws1",
      "include_colab_link": true
    },
    "kernelspec": {
      "name": "python3",
      "display_name": "Python 3"
    },
    "language_info": {
      "name": "python"
    },
    "accelerator": "TPU",
    "gpuClass": "standard"
  },
  "cells": [
    {
      "cell_type": "markdown",
      "metadata": {
        "id": "view-in-github",
        "colab_type": "text"
      },
      "source": [
        "<a href=\"https://colab.research.google.com/github/dc250601/CMS-GSoC-2022/blob/main/colab/Quark_gluon.ipynb\" target=\"_parent\"><img src=\"https://colab.research.google.com/assets/colab-badge.svg\" alt=\"Open In Colab\"/></a>"
      ]
    },
    {
      "cell_type": "code",
      "execution_count": 1,
      "metadata": {
        "colab": {
          "base_uri": "https://localhost:8080/"
        },
        "id": "5twxXrnD06Zg",
        "outputId": "c29dce5d-5e5d-43a6-f207-c56a82717056"
      },
      "outputs": [
        {
          "output_type": "stream",
          "name": "stdout",
          "text": [
            "Tensorflow version 2.8.2\n",
            "Running on TPU  ['10.0.241.10:8470']\n",
            "INFO:tensorflow:Deallocate tpu buffers before initializing tpu system.\n"
          ]
        },
        {
          "output_type": "stream",
          "name": "stderr",
          "text": [
            "INFO:tensorflow:Deallocate tpu buffers before initializing tpu system.\n"
          ]
        },
        {
          "output_type": "stream",
          "name": "stdout",
          "text": [
            "INFO:tensorflow:Initializing the TPU system: grpc://10.0.241.10:8470\n"
          ]
        },
        {
          "output_type": "stream",
          "name": "stderr",
          "text": [
            "INFO:tensorflow:Initializing the TPU system: grpc://10.0.241.10:8470\n"
          ]
        },
        {
          "output_type": "stream",
          "name": "stdout",
          "text": [
            "INFO:tensorflow:Finished initializing TPU system.\n"
          ]
        },
        {
          "output_type": "stream",
          "name": "stderr",
          "text": [
            "INFO:tensorflow:Finished initializing TPU system.\n",
            "WARNING:absl:`tf.distribute.experimental.TPUStrategy` is deprecated, please use  the non experimental symbol `tf.distribute.TPUStrategy` instead.\n"
          ]
        },
        {
          "output_type": "stream",
          "name": "stdout",
          "text": [
            "INFO:tensorflow:Found TPU system:\n"
          ]
        },
        {
          "output_type": "stream",
          "name": "stderr",
          "text": [
            "INFO:tensorflow:Found TPU system:\n"
          ]
        },
        {
          "output_type": "stream",
          "name": "stdout",
          "text": [
            "INFO:tensorflow:*** Num TPU Cores: 8\n"
          ]
        },
        {
          "output_type": "stream",
          "name": "stderr",
          "text": [
            "INFO:tensorflow:*** Num TPU Cores: 8\n"
          ]
        },
        {
          "output_type": "stream",
          "name": "stdout",
          "text": [
            "INFO:tensorflow:*** Num TPU Workers: 1\n"
          ]
        },
        {
          "output_type": "stream",
          "name": "stderr",
          "text": [
            "INFO:tensorflow:*** Num TPU Workers: 1\n"
          ]
        },
        {
          "output_type": "stream",
          "name": "stdout",
          "text": [
            "INFO:tensorflow:*** Num TPU Cores Per Worker: 8\n"
          ]
        },
        {
          "output_type": "stream",
          "name": "stderr",
          "text": [
            "INFO:tensorflow:*** Num TPU Cores Per Worker: 8\n"
          ]
        },
        {
          "output_type": "stream",
          "name": "stdout",
          "text": [
            "INFO:tensorflow:*** Available Device: _DeviceAttributes(/job:localhost/replica:0/task:0/device:CPU:0, CPU, 0, 0)\n"
          ]
        },
        {
          "output_type": "stream",
          "name": "stderr",
          "text": [
            "INFO:tensorflow:*** Available Device: _DeviceAttributes(/job:localhost/replica:0/task:0/device:CPU:0, CPU, 0, 0)\n"
          ]
        },
        {
          "output_type": "stream",
          "name": "stdout",
          "text": [
            "INFO:tensorflow:*** Available Device: _DeviceAttributes(/job:worker/replica:0/task:0/device:CPU:0, CPU, 0, 0)\n"
          ]
        },
        {
          "output_type": "stream",
          "name": "stderr",
          "text": [
            "INFO:tensorflow:*** Available Device: _DeviceAttributes(/job:worker/replica:0/task:0/device:CPU:0, CPU, 0, 0)\n"
          ]
        },
        {
          "output_type": "stream",
          "name": "stdout",
          "text": [
            "INFO:tensorflow:*** Available Device: _DeviceAttributes(/job:worker/replica:0/task:0/device:TPU:0, TPU, 0, 0)\n"
          ]
        },
        {
          "output_type": "stream",
          "name": "stderr",
          "text": [
            "INFO:tensorflow:*** Available Device: _DeviceAttributes(/job:worker/replica:0/task:0/device:TPU:0, TPU, 0, 0)\n"
          ]
        },
        {
          "output_type": "stream",
          "name": "stdout",
          "text": [
            "INFO:tensorflow:*** Available Device: _DeviceAttributes(/job:worker/replica:0/task:0/device:TPU:1, TPU, 0, 0)\n"
          ]
        },
        {
          "output_type": "stream",
          "name": "stderr",
          "text": [
            "INFO:tensorflow:*** Available Device: _DeviceAttributes(/job:worker/replica:0/task:0/device:TPU:1, TPU, 0, 0)\n"
          ]
        },
        {
          "output_type": "stream",
          "name": "stdout",
          "text": [
            "INFO:tensorflow:*** Available Device: _DeviceAttributes(/job:worker/replica:0/task:0/device:TPU:2, TPU, 0, 0)\n"
          ]
        },
        {
          "output_type": "stream",
          "name": "stderr",
          "text": [
            "INFO:tensorflow:*** Available Device: _DeviceAttributes(/job:worker/replica:0/task:0/device:TPU:2, TPU, 0, 0)\n"
          ]
        },
        {
          "output_type": "stream",
          "name": "stdout",
          "text": [
            "INFO:tensorflow:*** Available Device: _DeviceAttributes(/job:worker/replica:0/task:0/device:TPU:3, TPU, 0, 0)\n"
          ]
        },
        {
          "output_type": "stream",
          "name": "stderr",
          "text": [
            "INFO:tensorflow:*** Available Device: _DeviceAttributes(/job:worker/replica:0/task:0/device:TPU:3, TPU, 0, 0)\n"
          ]
        },
        {
          "output_type": "stream",
          "name": "stdout",
          "text": [
            "INFO:tensorflow:*** Available Device: _DeviceAttributes(/job:worker/replica:0/task:0/device:TPU:4, TPU, 0, 0)\n"
          ]
        },
        {
          "output_type": "stream",
          "name": "stderr",
          "text": [
            "INFO:tensorflow:*** Available Device: _DeviceAttributes(/job:worker/replica:0/task:0/device:TPU:4, TPU, 0, 0)\n"
          ]
        },
        {
          "output_type": "stream",
          "name": "stdout",
          "text": [
            "INFO:tensorflow:*** Available Device: _DeviceAttributes(/job:worker/replica:0/task:0/device:TPU:5, TPU, 0, 0)\n"
          ]
        },
        {
          "output_type": "stream",
          "name": "stderr",
          "text": [
            "INFO:tensorflow:*** Available Device: _DeviceAttributes(/job:worker/replica:0/task:0/device:TPU:5, TPU, 0, 0)\n"
          ]
        },
        {
          "output_type": "stream",
          "name": "stdout",
          "text": [
            "INFO:tensorflow:*** Available Device: _DeviceAttributes(/job:worker/replica:0/task:0/device:TPU:6, TPU, 0, 0)\n"
          ]
        },
        {
          "output_type": "stream",
          "name": "stderr",
          "text": [
            "INFO:tensorflow:*** Available Device: _DeviceAttributes(/job:worker/replica:0/task:0/device:TPU:6, TPU, 0, 0)\n"
          ]
        },
        {
          "output_type": "stream",
          "name": "stdout",
          "text": [
            "INFO:tensorflow:*** Available Device: _DeviceAttributes(/job:worker/replica:0/task:0/device:TPU:7, TPU, 0, 0)\n"
          ]
        },
        {
          "output_type": "stream",
          "name": "stderr",
          "text": [
            "INFO:tensorflow:*** Available Device: _DeviceAttributes(/job:worker/replica:0/task:0/device:TPU:7, TPU, 0, 0)\n"
          ]
        },
        {
          "output_type": "stream",
          "name": "stdout",
          "text": [
            "INFO:tensorflow:*** Available Device: _DeviceAttributes(/job:worker/replica:0/task:0/device:TPU_SYSTEM:0, TPU_SYSTEM, 0, 0)\n"
          ]
        },
        {
          "output_type": "stream",
          "name": "stderr",
          "text": [
            "INFO:tensorflow:*** Available Device: _DeviceAttributes(/job:worker/replica:0/task:0/device:TPU_SYSTEM:0, TPU_SYSTEM, 0, 0)\n"
          ]
        },
        {
          "output_type": "stream",
          "name": "stdout",
          "text": [
            "INFO:tensorflow:*** Available Device: _DeviceAttributes(/job:worker/replica:0/task:0/device:XLA_CPU:0, XLA_CPU, 0, 0)\n"
          ]
        },
        {
          "output_type": "stream",
          "name": "stderr",
          "text": [
            "INFO:tensorflow:*** Available Device: _DeviceAttributes(/job:worker/replica:0/task:0/device:XLA_CPU:0, XLA_CPU, 0, 0)\n"
          ]
        }
      ],
      "source": [
        "%tensorflow_version 2.x\n",
        "import tensorflow as tf\n",
        "print(\"Tensorflow version \" + tf.__version__)\n",
        "\n",
        "try:\n",
        "  tpu = tf.distribute.cluster_resolver.TPUClusterResolver()  # TPU detection\n",
        "  print('Running on TPU ', tpu.cluster_spec().as_dict()['worker'])\n",
        "except ValueError:\n",
        "  raise BaseException('ERROR: Not connected to a TPU runtime; please see the previous cell in this notebook for instructions!')\n",
        "\n",
        "tf.config.experimental_connect_to_cluster(tpu)\n",
        "tf.tpu.experimental.initialize_tpu_system(tpu)\n",
        "tpu_strategy = tf.distribute.experimental.TPUStrategy(tpu)"
      ]
    },
    {
      "cell_type": "code",
      "source": [
        "!curl ipinfo.io\n",
        "!pip install tensorflow_addons\n",
        "!pip install wandb"
      ],
      "metadata": {
        "colab": {
          "base_uri": "https://localhost:8080/"
        },
        "id": "GJ9ene8gvvEn",
        "outputId": "9557e944-3ce9-4ec2-9f71-0a23f2303a45"
      },
      "execution_count": 2,
      "outputs": [
        {
          "output_type": "stream",
          "name": "stdout",
          "text": [
            "{\n",
            "  \"ip\": \"35.193.61.138\",\n",
            "  \"hostname\": \"138.61.193.35.bc.googleusercontent.com\",\n",
            "  \"city\": \"Council Bluffs\",\n",
            "  \"region\": \"Iowa\",\n",
            "  \"country\": \"US\",\n",
            "  \"loc\": \"41.2619,-95.8608\",\n",
            "  \"org\": \"AS396982 Google LLC\",\n",
            "  \"postal\": \"51502\",\n",
            "  \"timezone\": \"America/Chicago\",\n",
            "  \"readme\": \"https://ipinfo.io/missingauth\"\n",
            "}Looking in indexes: https://pypi.org/simple, https://us-python.pkg.dev/colab-wheels/public/simple/\n",
            "Requirement already satisfied: tensorflow_addons in /usr/local/lib/python3.7/dist-packages (0.17.1)\n",
            "Requirement already satisfied: packaging in /usr/local/lib/python3.7/dist-packages (from tensorflow_addons) (21.3)\n",
            "Requirement already satisfied: typeguard>=2.7 in /usr/local/lib/python3.7/dist-packages (from tensorflow_addons) (2.7.1)\n",
            "Requirement already satisfied: pyparsing!=3.0.5,>=2.0.2 in /usr/local/lib/python3.7/dist-packages (from packaging->tensorflow_addons) (3.0.9)\n",
            "Looking in indexes: https://pypi.org/simple, https://us-python.pkg.dev/colab-wheels/public/simple/\n",
            "Requirement already satisfied: wandb in /usr/local/lib/python3.7/dist-packages (0.12.21)\n",
            "Requirement already satisfied: protobuf<4.0dev,>=3.12.0 in /usr/local/lib/python3.7/dist-packages (from wandb) (3.17.3)\n",
            "Requirement already satisfied: setproctitle in /usr/local/lib/python3.7/dist-packages (from wandb) (1.3.0)\n",
            "Requirement already satisfied: psutil>=5.0.0 in /usr/local/lib/python3.7/dist-packages (from wandb) (5.4.8)\n",
            "Requirement already satisfied: shortuuid>=0.5.0 in /usr/local/lib/python3.7/dist-packages (from wandb) (1.0.9)\n",
            "Requirement already satisfied: setuptools in /usr/local/lib/python3.7/dist-packages (from wandb) (57.4.0)\n",
            "Requirement already satisfied: sentry-sdk>=1.0.0 in /usr/local/lib/python3.7/dist-packages (from wandb) (1.9.0)\n",
            "Requirement already satisfied: Click!=8.0.0,>=7.0 in /usr/local/lib/python3.7/dist-packages (from wandb) (7.1.2)\n",
            "Requirement already satisfied: docker-pycreds>=0.4.0 in /usr/local/lib/python3.7/dist-packages (from wandb) (0.4.0)\n",
            "Requirement already satisfied: pathtools in /usr/local/lib/python3.7/dist-packages (from wandb) (0.1.2)\n",
            "Requirement already satisfied: six>=1.13.0 in /usr/local/lib/python3.7/dist-packages (from wandb) (1.15.0)\n",
            "Requirement already satisfied: GitPython>=1.0.0 in /usr/local/lib/python3.7/dist-packages (from wandb) (3.1.27)\n",
            "Requirement already satisfied: PyYAML in /usr/local/lib/python3.7/dist-packages (from wandb) (3.13)\n",
            "Requirement already satisfied: promise<3,>=2.0 in /usr/local/lib/python3.7/dist-packages (from wandb) (2.3)\n",
            "Requirement already satisfied: requests<3,>=2.0.0 in /usr/local/lib/python3.7/dist-packages (from wandb) (2.23.0)\n",
            "Requirement already satisfied: typing-extensions>=3.7.4.3 in /usr/local/lib/python3.7/dist-packages (from GitPython>=1.0.0->wandb) (4.1.1)\n",
            "Requirement already satisfied: gitdb<5,>=4.0.1 in /usr/local/lib/python3.7/dist-packages (from GitPython>=1.0.0->wandb) (4.0.9)\n",
            "Requirement already satisfied: smmap<6,>=3.0.1 in /usr/local/lib/python3.7/dist-packages (from gitdb<5,>=4.0.1->GitPython>=1.0.0->wandb) (5.0.0)\n",
            "Requirement already satisfied: idna<3,>=2.5 in /usr/local/lib/python3.7/dist-packages (from requests<3,>=2.0.0->wandb) (2.10)\n",
            "Requirement already satisfied: urllib3!=1.25.0,!=1.25.1,<1.26,>=1.21.1 in /usr/local/lib/python3.7/dist-packages (from requests<3,>=2.0.0->wandb) (1.24.3)\n",
            "Requirement already satisfied: chardet<4,>=3.0.2 in /usr/local/lib/python3.7/dist-packages (from requests<3,>=2.0.0->wandb) (3.0.4)\n",
            "Requirement already satisfied: certifi>=2017.4.17 in /usr/local/lib/python3.7/dist-packages (from requests<3,>=2.0.0->wandb) (2022.6.15)\n"
          ]
        }
      ]
    },
    {
      "cell_type": "code",
      "source": [
        "import re\n",
        "import numpy as np\n",
        "from matplotlib import pyplot as plt\n",
        "import os\n",
        "import numpy as np\n",
        "import sys\n",
        "sys.path.append('./eff_feature.py')\n",
        "sys.path.append('./swin_sp.py')\n",
        "#Modified efficient net to match the config of the timm \n",
        "import eff_feature as efm\n",
        "#import swin_r as swin\n",
        "import swin_sp as swin\n",
        "import tensorflow_addons as tfa\n",
        "AUTO = tf.data.experimental.AUTOTUNE\n",
        "import wandb"
      ],
      "metadata": {
        "id": "2W54XupW102D"
      },
      "execution_count": 3,
      "outputs": []
    },
    {
      "cell_type": "code",
      "source": [
        "BATCH_SIZE = 128 * tpu_strategy.num_replicas_in_sync"
      ],
      "metadata": {
        "id": "MI8BOxRm2lmO"
      },
      "execution_count": 4,
      "outputs": []
    },
    {
      "cell_type": "code",
      "source": [
        "GCS_DS_PATH = \"gs://quark_gluon/Qg\"\n",
        "TRAIN = tf.io.gfile.glob(GCS_DS_PATH + '/Train/*.tfrecords')\n",
        "TEST =  tf.io.gfile.glob(GCS_DS_PATH + '/Test/*.tfrecords')"
      ],
      "metadata": {
        "id": "JCiFQYfB3LJ3"
      },
      "execution_count": 5,
      "outputs": []
    },
    {
      "cell_type": "code",
      "source": [
        "def _parse_image_label_function(example_proto):\n",
        "    # Create a dictionary describing the features.\n",
        "    image_feature_description = {\n",
        "        'raw_image': tf.io.FixedLenFeature([], tf.string),\n",
        "        'label': tf.io.FixedLenFeature([], tf.int64),\n",
        "        'name': tf.io.FixedLenFeature([], tf.string)\n",
        "        \n",
        "    }\n",
        "    # Parse the input tf.train.Example proto using the dictionary above.\n",
        "    content = tf.io.parse_single_example(example_proto, image_feature_description)\n",
        "    content[\"raw_image\"] = tf.io.decode_png(content[\"raw_image\"], channels = 3)\n",
        "    content[\"raw_image\"] = tf.cast(content[\"raw_image\"], tf.float32) / 255.0\n",
        "#    content[\"raw_image\"] = tf.reshape([\"raw_image\"], [224,224, 3])\n",
        "#     image = content[\"raw_image\"]\n",
        "#     label = content[\"label\"]\n",
        "    return content[\"raw_image\"],content[\"label\"]\n",
        "\n",
        "\n",
        "def data_augment(image, label):\n",
        "    # data augmentation. Thanks to the dataset.prefetch(AUTO) statement in the next function (below),\n",
        "    # this happens essentially for free on TPU. Data pipeline code is executed on the \"CPU\" part\n",
        "    # of the TPU while the TPU itself is computing gradients.\n",
        "    image = tf.image.resize(image, (224,224), method = \"nearest\")\n",
        "    image = tf.image.random_flip_left_right(image)\n",
        "    image = tf.image.random_flip_up_down(image)\n",
        "    image = tfa.image.rotate(image,20*(np.random.rand()+-1*np.random.rand())*0.5)\n",
        "    return image, label  \n",
        "\n",
        "\n",
        "\n",
        "def load_dataset(filenames):\n",
        "    ignore_order = tf.data.Options()\n",
        "    ignore_order.experimental_deterministic = False\n",
        "    dataset = tf.data.TFRecordDataset(filenames, num_parallel_reads=AUTO)\n",
        "    dataset = dataset.with_options(ignore_order)\n",
        "    dataset = dataset.map(_parse_image_label_function, num_parallel_calls=AUTO)\n",
        "    dataset = dataset.map(data_augment,num_parallel_calls=AUTO)\n",
        "    dataset = dataset.repeat()\n",
        "    dataset = dataset.shuffle(2048)\n",
        "    dataset = dataset.batch(BATCH_SIZE, drop_remainder=True)\n",
        "    dataset = dataset.prefetch(AUTO)\n",
        "    \n",
        "    return dataset"
      ],
      "metadata": {
        "id": "bfF1GnTW2nUD"
      },
      "execution_count": 6,
      "outputs": []
    },
    {
      "cell_type": "code",
      "source": [
        "train_ds = load_dataset(TRAIN)\n",
        "val_ds = load_dataset(TEST)"
      ],
      "metadata": {
        "id": "t4OCputF6RWl"
      },
      "execution_count": 7,
      "outputs": []
    },
    {
      "cell_type": "code",
      "source": [
        "_ = next(iter(train_ds))"
      ],
      "metadata": {
        "id": "LXF1ewEnVWCG"
      },
      "execution_count": 8,
      "outputs": []
    },
    {
      "cell_type": "code",
      "source": [
        "with tpu_strategy.scope():\n",
        "\n",
        "    eff_blocks = 2\n",
        "    \n",
        "    model_a = swin.SwinTransformer(part_model  =True, eff_blocks = eff_blocks, partition_ = 1)\n",
        "\n",
        "    model_b = swin.SwinTransformer(part_model  =True, eff_blocks = eff_blocks, partition_ = 2)\n",
        "\n",
        "    model_ef = efm.EfficientNetB3(input_shape=(224,224,3),feature_extractor_blocks=eff_blocks)\n",
        "    \n",
        "    model_top = tf.keras.layers.Dense(1, activation = \"sigmoid\")\n",
        "\n",
        "    feature_extractor_blocks=eff_blocks\n",
        "    swin_blocks = model_b.num_layers - feature_extractor_blocks\n",
        "    embeded_dim = model_a.embed_dim[0] * (2**(4 - swin_blocks))\n",
        "    connector = tf.keras.Sequential([tf.keras.layers.Conv2D(filters=embeded_dim,use_bias=False, kernel_size = 1),\n",
        "                                     tf.keras.layers.BatchNormalization(momentum = 0.1, epsilon = 1e-05),\n",
        "                                     tf.keras.layers.Activation(\"swish\"),\n",
        "                                     tf.keras.layers.Reshape((-1,embeded_dim))\n",
        "    ])\n",
        "\n",
        "    class Stage1(tf.keras.Model):\n",
        "\n",
        "        def __init__(self, model_a, model_b, top):\n",
        "            super(Stage1,self).__init__()\n",
        "            self.model_a = model_a\n",
        "            self.model_b = model_b\n",
        "            self.top = top\n",
        "            \n",
        "\n",
        "        def call(self, x):\n",
        "            x = self.model_a(x)\n",
        "            x = self.model_b(x)\n",
        "            x = self.top(x)\n",
        "            return x\n",
        "\n",
        "\n",
        "    class Stage2(tf.keras.Model):\n",
        "\n",
        "        def __init__(self, eff, connector, model_b, top):\n",
        "            super().__init__()\n",
        "            self.eff = eff\n",
        "            self.connector = connector\n",
        "            self.model_b = model_b\n",
        "            self.model_b.trainable = False\n",
        "            self.top = top\n",
        "            \n",
        "        def call(self, x):\n",
        "            x = self.eff(x)\n",
        "            x = self.connector(x)\n",
        "            x = self.model_b(x)\n",
        "            x = self.top(x)\n",
        "            return x\n",
        "\n",
        "\n",
        "    class Stage3(tf.keras.Model):\n",
        "\n",
        "        def __init__(self, eff, connector, model_b, top):\n",
        "            super().__init__()\n",
        "            self.eff = eff\n",
        "            self.connector = connector\n",
        "            self.model_b = model_b\n",
        "            self.model_b.trainable = True\n",
        "            self.top = top\n",
        "        def call(self, x):\n",
        "            x = self.eff(x)\n",
        "            x = self.connector(x)\n",
        "            x = self.model_b(x)\n",
        "            x = self.top(x)\n",
        "            return x"
      ],
      "metadata": {
        "id": "eAAh3fi-6Ttk"
      },
      "execution_count": 9,
      "outputs": []
    },
    {
      "cell_type": "code",
      "source": [
        "with tpu_strategy.scope():\n",
        "    model = Stage1( model_a, model_b, model_top)\n",
        "    # ld = model(tf.random.uniform((1,224,224,3)), training = False)\n",
        "    \n",
        "    # model = tf.keras.Sequential([\n",
        "    #     tf.keras.layers.Input(shape = (224,224,3)),\n",
        "    #     model,\n",
        "    #     tf.keras.layers.Dense(1, activation = \"sigmoid\")\n",
        "        \n",
        "    # ])\n",
        "\n",
        "    model.compile(\n",
        "\n",
        "        # optimizer = tfa.optimizers.AdamW(learning_rate=0.0005, weight_decay=0.00000005),\n",
        "        optimizer=tf.keras.optimizers.Adam(lr = 0.0001),\n",
        "        steps_per_execution = 32,\n",
        "        loss = tf.keras.losses.BinaryCrossentropy(),\n",
        "        \n",
        "        metrics=[\"accuracy\", \"AUC\"]\n",
        "    )\n",
        "   "
      ],
      "metadata": {
        "colab": {
          "base_uri": "https://localhost:8080/"
        },
        "id": "MVVPrXld6r94",
        "outputId": "fa880c39-c5b5-457c-f94a-50185db36250"
      },
      "execution_count": 10,
      "outputs": [
        {
          "output_type": "stream",
          "name": "stderr",
          "text": [
            "/usr/local/lib/python3.7/dist-packages/keras/optimizer_v2/adam.py:105: UserWarning: The `lr` argument is deprecated, use `learning_rate` instead.\n",
            "  super(Adam, self).__init__(name, **kwargs)\n"
          ]
        }
      ]
    },
    {
      "cell_type": "code",
      "source": [
        "lr_sc = tf.keras.callbacks.ReduceLROnPlateau(\n",
        "    monitor='val_auc',\n",
        "    factor=0.5,\n",
        "    patience=3,\n",
        "    verbose=0,\n",
        "    mode='max',\n",
        "    min_delta=0.001,\n",
        "    cooldown=0,\n",
        "    min_lr=1e-7)"
      ],
      "metadata": {
        "id": "pHCEh6QRIOX3"
      },
      "execution_count": 11,
      "outputs": []
    },
    {
      "cell_type": "code",
      "source": [
        "history = model.fit(train_ds,\n",
        "#                     steps_per_epoch= 1, \n",
        "                    steps_per_epoch=194*4,\n",
        "                    validation_data=val_ds,\n",
        "                    validation_steps=34*4,\n",
        "                    callbacks = [lr_sc],\n",
        "                    epochs=50\n",
        "                    )"
      ],
      "metadata": {
        "colab": {
          "base_uri": "https://localhost:8080/"
        },
        "id": "Ebmk0hZx61NY",
        "outputId": "39244a75-97e3-4b5a-ac43-970911b8832e"
      },
      "execution_count": null,
      "outputs": [
        {
          "output_type": "stream",
          "name": "stdout",
          "text": [
            "Epoch 1/50\n",
            "776/776 [==============================] - 1007s 1s/step - loss: 0.6312 - accuracy: 0.6494 - auc: 0.7146 - val_loss: 0.5789 - val_accuracy: 0.7009 - val_auc: 0.7721 - lr: 1.0000e-04\n",
            "Epoch 2/50\n",
            "776/776 [==============================] - 867s 1s/step - loss: 0.5696 - accuracy: 0.7114 - auc: 0.7758 - val_loss: 0.5725 - val_accuracy: 0.7068 - val_auc: 0.7769 - lr: 1.0000e-04\n",
            "Epoch 3/50\n",
            "776/776 [==============================] - 885s 1s/step - loss: 0.5653 - accuracy: 0.7150 - auc: 0.7802 - val_loss: 0.5676 - val_accuracy: 0.7126 - val_auc: 0.7797 - lr: 1.0000e-04\n",
            "Epoch 4/50\n",
            "776/776 [==============================] - 868s 1s/step - loss: 0.5616 - accuracy: 0.7173 - auc: 0.7838 - val_loss: 0.5921 - val_accuracy: 0.6925 - val_auc: 0.7830 - lr: 1.0000e-04\n",
            "Epoch 5/50\n",
            "776/776 [==============================] - 867s 1s/step - loss: 0.5586 - accuracy: 0.7203 - auc: 0.7868 - val_loss: 0.5805 - val_accuracy: 0.6979 - val_auc: 0.7844 - lr: 1.0000e-04\n",
            "Epoch 6/50\n",
            "776/776 [==============================] - 868s 1s/step - loss: 0.5560 - accuracy: 0.7227 - auc: 0.7893 - val_loss: 0.5693 - val_accuracy: 0.7105 - val_auc: 0.7861 - lr: 1.0000e-04\n",
            "Epoch 7/50\n",
            "776/776 [==============================] - 876s 1s/step - loss: 0.5539 - accuracy: 0.7245 - auc: 0.7913 - val_loss: 0.5951 - val_accuracy: 0.6930 - val_auc: 0.7863 - lr: 1.0000e-04\n",
            "Epoch 8/50\n",
            "776/776 [==============================] - 876s 1s/step - loss: 0.5519 - accuracy: 0.7260 - auc: 0.7931 - val_loss: 0.5660 - val_accuracy: 0.7153 - val_auc: 0.7861 - lr: 1.0000e-04\n",
            "Epoch 9/50\n",
            "776/776 [==============================] - 867s 1s/step - loss: 0.5501 - accuracy: 0.7276 - auc: 0.7949 - val_loss: 0.5871 - val_accuracy: 0.6977 - val_auc: 0.7867 - lr: 1.0000e-04\n",
            "Epoch 10/50\n",
            "776/776 [==============================] - 872s 1s/step - loss: 0.5463 - accuracy: 0.7300 - auc: 0.7983 - val_loss: 0.5714 - val_accuracy: 0.7084 - val_auc: 0.7878 - lr: 5.0000e-05\n",
            "Epoch 11/50\n",
            "776/776 [==============================] - 876s 1s/step - loss: 0.5452 - accuracy: 0.7314 - auc: 0.7993 - val_loss: 0.5681 - val_accuracy: 0.7106 - val_auc: 0.7872 - lr: 5.0000e-05\n",
            "Epoch 12/50\n",
            "776/776 [==============================] - 867s 1s/step - loss: 0.5443 - accuracy: 0.7321 - auc: 0.8002 - val_loss: 0.5683 - val_accuracy: 0.7124 - val_auc: 0.7877 - lr: 5.0000e-05\n",
            "Epoch 13/50\n",
            "776/776 [==============================] - 868s 1s/step - loss: 0.5436 - accuracy: 0.7327 - auc: 0.8008 - val_loss: 0.5760 - val_accuracy: 0.7076 - val_auc: 0.7879 - lr: 5.0000e-05\n",
            "Epoch 14/50\n",
            "776/776 [==============================] - 867s 1s/step - loss: 0.5402 - accuracy: 0.7352 - auc: 0.8039 - val_loss: 0.5825 - val_accuracy: 0.6986 - val_auc: 0.7870 - lr: 2.5000e-05\n",
            "Epoch 15/50\n",
            "776/776 [==============================] - 870s 1s/step - loss: 0.5392 - accuracy: 0.7355 - auc: 0.8047 - val_loss: 0.5718 - val_accuracy: 0.7086 - val_auc: 0.7874 - lr: 2.5000e-05\n",
            "Epoch 16/50\n",
            "776/776 [==============================] - 869s 1s/step - loss: 0.5384 - accuracy: 0.7362 - auc: 0.8054 - val_loss: 0.5647 - val_accuracy: 0.7138 - val_auc: 0.7870 - lr: 2.5000e-05\n",
            "Epoch 17/50\n",
            " 32/776 [>.............................] - ETA: 13:09 - loss: 0.5378 - accuracy: 0.7384 - auc: 0.8060"
          ]
        }
      ]
    }
  ]
}